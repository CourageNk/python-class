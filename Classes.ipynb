{
 "cells": [
  {
   "cell_type": "markdown",
   "id": "a3c1308a-9ab3-43ce-aac6-dac9dbc969c7",
   "metadata": {},
   "source": [
    "<h2> Python Class Methods</h2>"
   ]
  },
  {
   "cell_type": "code",
   "execution_count": 3,
   "id": "b108278a-eb55-465d-97db-d21f9f0581b5",
   "metadata": {},
   "outputs": [],
   "source": [
    "class Test:\n",
    "    def __init__(self,tools):\n",
    "        self.tools = tools"
   ]
  },
  {
   "cell_type": "code",
   "execution_count": 4,
   "id": "aae94abe-e15a-4083-9c7c-56b9588d5246",
   "metadata": {},
   "outputs": [
    {
     "data": {
      "text/plain": [
       "'Spanner'"
      ]
     },
     "execution_count": 4,
     "metadata": {},
     "output_type": "execute_result"
    }
   ],
   "source": [
    "t = Test(\"Spanner\")\n",
    "t.tools"
   ]
  },
  {
   "cell_type": "code",
   "execution_count": 5,
   "id": "5043d24e-26d1-46f4-a516-712e6d9008d0",
   "metadata": {},
   "outputs": [],
   "source": [
    "import time"
   ]
  },
  {
   "cell_type": "code",
   "execution_count": 25,
   "id": "6aa00405-fdb8-47b5-88aa-dd6f880911f5",
   "metadata": {},
   "outputs": [],
   "source": [
    "class Today:\n",
    "    def __init__(self, date, time):\n",
    "        self.date = date\n",
    "        self.time = time\n",
    "        \n",
    "    def TheTime(self):\n",
    "            print(f'The time is (self.time)')\n",
    "            \n",
    "    def Date(self):\n",
    "            print(f\"Today is {self.date}\")"
   ]
  },
  {
   "cell_type": "code",
   "execution_count": 26,
   "id": "4563a409-2469-4c67-b755-4ce92f18feab",
   "metadata": {},
   "outputs": [],
   "source": [
    "T = Today(time.strftime('%D'), time.strftime('%H-%M-%S'))"
   ]
  },
  {
   "cell_type": "code",
   "execution_count": 27,
   "id": "56dea5d1-caf7-47a8-b995-75f664e43af3",
   "metadata": {},
   "outputs": [
    {
     "data": {
      "text/plain": [
       "'08/12/24'"
      ]
     },
     "execution_count": 27,
     "metadata": {},
     "output_type": "execute_result"
    }
   ],
   "source": [
    "T.date"
   ]
  },
  {
   "cell_type": "code",
   "execution_count": 28,
   "id": "80f67f76-dc66-42bd-bed2-9ac74881ffe5",
   "metadata": {},
   "outputs": [
    {
     "data": {
      "text/plain": [
       "'15-47-11'"
      ]
     },
     "execution_count": 28,
     "metadata": {},
     "output_type": "execute_result"
    }
   ],
   "source": [
    "T.time"
   ]
  },
  {
   "cell_type": "code",
   "execution_count": 29,
   "id": "f2d39d4a-92c4-447c-ae47-85d6939ba542",
   "metadata": {},
   "outputs": [
    {
     "name": "stdout",
     "output_type": "stream",
     "text": [
      "Today is 08/12/24\n"
     ]
    }
   ],
   "source": [
    "T.Date()\n"
   ]
  },
  {
   "cell_type": "code",
   "execution_count": 30,
   "id": "5731e863-7180-40b5-b725-dab1609f9aa6",
   "metadata": {},
   "outputs": [
    {
     "name": "stdout",
     "output_type": "stream",
     "text": [
      "The time is (self.time)\n"
     ]
    }
   ],
   "source": [
    "T.TheTime()"
   ]
  },
  {
   "cell_type": "code",
   "execution_count": null,
   "id": "cb1f36e6-8f01-42ac-985e-764ca4204d8a",
   "metadata": {},
   "outputs": [],
   "source": []
  }
 ],
 "metadata": {
  "kernelspec": {
   "display_name": "Python 3 (ipykernel)",
   "language": "python",
   "name": "python3"
  },
  "language_info": {
   "codemirror_mode": {
    "name": "ipython",
    "version": 3
   },
   "file_extension": ".py",
   "mimetype": "text/x-python",
   "name": "python",
   "nbconvert_exporter": "python",
   "pygments_lexer": "ipython3",
   "version": "3.12.4"
  }
 },
 "nbformat": 4,
 "nbformat_minor": 5
}
