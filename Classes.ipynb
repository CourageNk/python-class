{
 "cells": [
  {
   "cell_type": "markdown",
   "id": "a3c1308a-9ab3-43ce-aac6-dac9dbc969c7",
   "metadata": {},
   "source": [
    "<h2> Python Class Methods</h2>"
   ]
  },
  {
   "cell_type": "code",
   "execution_count": 3,
   "id": "b108278a-eb55-465d-97db-d21f9f0581b5",
   "metadata": {},
   "outputs": [],
   "source": [
    "class Test:\n",
    "    def __init__(self,tools):\n",
    "        self.tools = tools"
   ]
  },
  {
   "cell_type": "code",
   "execution_count": 4,
   "id": "aae94abe-e15a-4083-9c7c-56b9588d5246",
   "metadata": {},
   "outputs": [
    {
     "data": {
      "text/plain": [
       "'Spanner'"
      ]
     },
     "execution_count": 4,
     "metadata": {},
     "output_type": "execute_result"
    }
   ],
   "source": [
    "t = Test(\"Spanner\")\n",
    "t.tools"
   ]
  },
  {
   "cell_type": "code",
   "execution_count": 5,
   "id": "5043d24e-26d1-46f4-a516-712e6d9008d0",
   "metadata": {},
   "outputs": [],
   "source": [
    "import time"
   ]
  },
  {
   "cell_type": "code",
   "execution_count": 25,
   "id": "6aa00405-fdb8-47b5-88aa-dd6f880911f5",
   "metadata": {},
   "outputs": [],
   "source": [
    "class Today:\n",
    "    def __init__(self, date, time):\n",
    "        self.date = date\n",
    "        self.time = time\n",
    "        \n",
    "    def TheTime(self):\n",
    "            print(f'The time is (self.time)')\n",
    "            \n",
    "    def Date(self):\n",
    "            print(f\"Today is {self.date}\")"
   ]
  },
  {
   "cell_type": "code",
   "execution_count": 26,
   "id": "4563a409-2469-4c67-b755-4ce92f18feab",
   "metadata": {},
   "outputs": [],
   "source": [
    "T = Today(time.strftime('%D'), time.strftime('%H-%M-%S'))"
   ]
  },
  {
   "cell_type": "code",
   "execution_count": 27,
   "id": "56dea5d1-caf7-47a8-b995-75f664e43af3",
   "metadata": {},
   "outputs": [
    {
     "data": {
      "text/plain": [
       "'08/12/24'"
      ]
     },
     "execution_count": 27,
     "metadata": {},
     "output_type": "execute_result"
    }
   ],
   "source": [
    "T.date"
   ]
  },
  {
   "cell_type": "code",
   "execution_count": 28,
   "id": "80f67f76-dc66-42bd-bed2-9ac74881ffe5",
   "metadata": {},
   "outputs": [
    {
     "data": {
      "text/plain": [
       "'15-47-11'"
      ]
     },
     "execution_count": 28,
     "metadata": {},
     "output_type": "execute_result"
    }
   ],
   "source": [
    "T.time"
   ]
  },
  {
   "cell_type": "code",
   "execution_count": 29,
   "id": "f2d39d4a-92c4-447c-ae47-85d6939ba542",
   "metadata": {},
   "outputs": [
    {
     "name": "stdout",
     "output_type": "stream",
     "text": [
      "Today is 08/12/24\n"
     ]
    }
   ],
   "source": [
    "T.Date()\n"
   ]
  },
  {
   "cell_type": "code",
   "execution_count": 30,
   "id": "5731e863-7180-40b5-b725-dab1609f9aa6",
   "metadata": {},
   "outputs": [
    {
     "name": "stdout",
     "output_type": "stream",
     "text": [
      "The time is (self.time)\n"
     ]
    }
   ],
   "source": [
    "T.TheTime()"
   ]
  },
  {
   "cell_type": "code",
   "execution_count": 31,
   "id": "cb1f36e6-8f01-42ac-985e-764ca4204d8a",
   "metadata": {},
   "outputs": [],
   "source": [
    "class Run:\n",
    "    def __init__(self, name, Nchildren):\n",
    "        self.name = name\n",
    "        self.children = Nchildren\n",
    "\n",
    "    def Naming(self):\n",
    "        print(f\"My name is {self.name}\")"
   ]
  },
  {
   "cell_type": "code",
   "execution_count": 32,
   "id": "1f486c9c-4a90-4bbb-8283-0f60d17bdd9e",
   "metadata": {},
   "outputs": [],
   "source": [
    "r = Run(\"Michael\", 5)"
   ]
  },
  {
   "cell_type": "code",
   "execution_count": 33,
   "id": "bd038684-ba4e-4e0e-89b8-f951b234bc95",
   "metadata": {},
   "outputs": [
    {
     "data": {
      "text/plain": [
       "'Michael'"
      ]
     },
     "execution_count": 33,
     "metadata": {},
     "output_type": "execute_result"
    }
   ],
   "source": [
    "r.name"
   ]
  },
  {
   "cell_type": "code",
   "execution_count": 34,
   "id": "22832647-7f3e-4927-bed9-01c50e98772b",
   "metadata": {},
   "outputs": [
    {
     "data": {
      "text/plain": [
       "5"
      ]
     },
     "execution_count": 34,
     "metadata": {},
     "output_type": "execute_result"
    }
   ],
   "source": [
    "r.children"
   ]
  },
  {
   "cell_type": "code",
   "execution_count": 38,
   "id": "f036277d-c5ad-4b8e-bf7d-741bdd74134c",
   "metadata": {},
   "outputs": [],
   "source": [
    "class Flag:\n",
    "    def __init__ (self, id):\n",
    "        self.id = id\n",
    "\n",
    "    def greet(self):\n",
    "        print(f\"Your id is {self.id}\")"
   ]
  },
  {
   "cell_type": "code",
   "execution_count": 39,
   "id": "b73d7b99-0743-4de0-98b1-6b64bf074e8a",
   "metadata": {},
   "outputs": [
    {
     "data": {
      "text/plain": [
       "'D21342'"
      ]
     },
     "execution_count": 39,
     "metadata": {},
     "output_type": "execute_result"
    }
   ],
   "source": [
    "f = Flag(\"D21342\")\n",
    "f.id"
   ]
  },
  {
   "cell_type": "code",
   "execution_count": 40,
   "id": "63f6e743-0dac-4efb-9d6b-369b464618b5",
   "metadata": {},
   "outputs": [
    {
     "name": "stdout",
     "output_type": "stream",
     "text": [
      "Your id is D21342\n"
     ]
    }
   ],
   "source": [
    "f.greet()"
   ]
  },
  {
   "cell_type": "code",
   "execution_count": 53,
   "id": "5bfe3099-c8fb-437c-8ba8-c53ede9da3e4",
   "metadata": {},
   "outputs": [],
   "source": [
    "class Eat:\n",
    "    def __init__(self, Person, Plates):\n",
    "        self.Person = Person\n",
    "        self.Plates = Plates\n",
    "\n",
    "    def Food(self):\n",
    "        print(f\"{self.Person} it is time to eat\")\n",
    "\n",
    "    def Nplates(self):\n",
    "        print(f\"You ate {self.Plates} plates of food\")"
   ]
  },
  {
   "cell_type": "code",
   "execution_count": 54,
   "id": "a17b9a01-a010-4dff-a46d-0dab55eac47b",
   "metadata": {},
   "outputs": [
    {
     "data": {
      "text/plain": [
       "'Moses'"
      ]
     },
     "execution_count": 54,
     "metadata": {},
     "output_type": "execute_result"
    }
   ],
   "source": [
    "E = Eat(\"Moses\", 3)\n",
    "E.Person"
   ]
  },
  {
   "cell_type": "code",
   "execution_count": 55,
   "id": "2c3f16c3-e337-4fc4-ae70-698908fc7b54",
   "metadata": {},
   "outputs": [
    {
     "data": {
      "text/plain": [
       "3"
      ]
     },
     "execution_count": 55,
     "metadata": {},
     "output_type": "execute_result"
    }
   ],
   "source": [
    "E.Plates"
   ]
  },
  {
   "cell_type": "code",
   "execution_count": 56,
   "id": "6e5dad4c-ffcb-4408-8d3c-dd99d5f38013",
   "metadata": {},
   "outputs": [
    {
     "name": "stdout",
     "output_type": "stream",
     "text": [
      "Moses it is time to eat\n"
     ]
    }
   ],
   "source": [
    "E.Food()"
   ]
  },
  {
   "cell_type": "code",
   "execution_count": 57,
   "id": "50747b0b-7fe7-44a4-ab8f-3c159d03a727",
   "metadata": {},
   "outputs": [
    {
     "name": "stdout",
     "output_type": "stream",
     "text": [
      "You ate 3 plates of food\n"
     ]
    }
   ],
   "source": [
    "E.Nplates()"
   ]
  },
  {
   "cell_type": "code",
   "execution_count": null,
   "id": "22644df6-6482-47fb-ac9e-96224de57e21",
   "metadata": {},
   "outputs": [],
   "source": []
  }
 ],
 "metadata": {
  "kernelspec": {
   "display_name": "Python 3 (ipykernel)",
   "language": "python",
   "name": "python3"
  },
  "language_info": {
   "codemirror_mode": {
    "name": "ipython",
    "version": 3
   },
   "file_extension": ".py",
   "mimetype": "text/x-python",
   "name": "python",
   "nbconvert_exporter": "python",
   "pygments_lexer": "ipython3",
   "version": "3.12.4"
  }
 },
 "nbformat": 4,
 "nbformat_minor": 5
}
